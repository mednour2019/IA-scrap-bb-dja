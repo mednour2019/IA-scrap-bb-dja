{
 "cells": [
  {
   "cell_type": "code",
   "execution_count": 1,
   "metadata": {},
   "outputs": [
    {
     "ename": "ModuleNotFoundError",
     "evalue": "No module named 'pandas'",
     "output_type": "error",
     "traceback": [
      "\u001b[1;31m---------------------------------------------------------------------------\u001b[0m",
      "\u001b[1;31mModuleNotFoundError\u001b[0m                       Traceback (most recent call last)",
      "\u001b[1;32mc:\\Users\\mednour\\Desktop\\Scrapp\\AnalysiSentiments\\File.ipynb Cell 1'\u001b[0m in \u001b[0;36m<module>\u001b[1;34m\u001b[0m\n\u001b[1;32m----> <a href='vscode-notebook-cell:/c%3A/Users/mednour/Desktop/Scrapp/AnalysiSentiments/File.ipynb#ch0000000?line=0'>1</a>\u001b[0m \u001b[39mimport\u001b[39;00m \u001b[39mpandas\u001b[39;00m \u001b[39mas\u001b[39;00m \u001b[39mpd\u001b[39;00m\n\u001b[0;32m      <a href='vscode-notebook-cell:/c%3A/Users/mednour/Desktop/Scrapp/AnalysiSentiments/File.ipynb#ch0000000?line=1'>2</a>\u001b[0m \u001b[39mimport\u001b[39;00m \u001b[39mre\u001b[39;00m\n\u001b[0;32m      <a href='vscode-notebook-cell:/c%3A/Users/mednour/Desktop/Scrapp/AnalysiSentiments/File.ipynb#ch0000000?line=2'>3</a>\u001b[0m \u001b[39mimport\u001b[39;00m \u001b[39mdocx2txt\u001b[39;00m \u001b[39mas\u001b[39;00m \u001b[39mdoc\u001b[39;00m\n",
      "\u001b[1;31mModuleNotFoundError\u001b[0m: No module named 'pandas'"
     ]
    }
   ],
   "source": [
    "import pandas as pd\n",
    "import re\n",
    "import docx2txt as doc\n",
    "import glob"
   ]
  },
  {
   "cell_type": "code",
   "execution_count": 2,
   "metadata": {},
   "outputs": [
    {
     "ename": "ModuleNotFoundError",
     "evalue": "No module named 'spacy'",
     "output_type": "error",
     "traceback": [
      "\u001b[1;31m---------------------------------------------------------------------------\u001b[0m",
      "\u001b[1;31mModuleNotFoundError\u001b[0m                       Traceback (most recent call last)",
      "\u001b[1;32mc:\\Users\\mednour\\Desktop\\Scrapp\\AnalysiSentiments\\File.ipynb Cell 2'\u001b[0m in \u001b[0;36m<module>\u001b[1;34m\u001b[0m\n\u001b[1;32m----> <a href='vscode-notebook-cell:/c%3A/Users/mednour/Desktop/Scrapp/AnalysiSentiments/File.ipynb#ch0000001?line=0'>1</a>\u001b[0m \u001b[39mimport\u001b[39;00m \u001b[39mspacy\u001b[39;00m\n\u001b[0;32m      <a href='vscode-notebook-cell:/c%3A/Users/mednour/Desktop/Scrapp/AnalysiSentiments/File.ipynb#ch0000001?line=1'>2</a>\u001b[0m \u001b[39mfrom\u001b[39;00m \u001b[39mspacy\u001b[39;00m\u001b[39m.\u001b[39;00m\u001b[39mlang\u001b[39;00m\u001b[39m.\u001b[39;00m\u001b[39men\u001b[39;00m\u001b[39m.\u001b[39;00m\u001b[39mstop_words\u001b[39;00m \u001b[39mimport\u001b[39;00m STOP_WORDS\n\u001b[0;32m      <a href='vscode-notebook-cell:/c%3A/Users/mednour/Desktop/Scrapp/AnalysiSentiments/File.ipynb#ch0000001?line=2'>3</a>\u001b[0m \u001b[39mfrom\u001b[39;00m \u001b[39mstring\u001b[39;00m \u001b[39mimport\u001b[39;00m punctuation\n",
      "\u001b[1;31mModuleNotFoundError\u001b[0m: No module named 'spacy'"
     ]
    }
   ],
   "source": [
    "import spacy\n",
    "from spacy.lang.en.stop_words import STOP_WORDS\n",
    "from string import punctuation\n",
    "from dframcy import DframCy"
   ]
  },
  {
   "cell_type": "code",
   "execution_count": null,
   "metadata": {},
   "outputs": [],
   "source": [
    "import nltk\n",
    "import matplotlib.pyplot as plt\n",
    "from textblob import TextBlob\n",
    "from spacy.lang.en.stop_words import STOP_WORDS\n",
    "from string import punctuation\n",
    "from nltk.corpus import stopwords"
   ]
  },
  {
   "cell_type": "code",
   "execution_count": null,
   "metadata": {},
   "outputs": [
    {
     "name": "stderr",
     "output_type": "stream",
     "text": [
      "[nltk_data] Downloading package stopwords to\n",
      "[nltk_data]     C:\\Users\\mednour\\AppData\\Roaming\\nltk_data...\n",
      "[nltk_data]   Package stopwords is already up-to-date!\n",
      "[nltk_data] Downloading package words to\n",
      "[nltk_data]     C:\\Users\\mednour\\AppData\\Roaming\\nltk_data...\n",
      "[nltk_data]   Package words is already up-to-date!\n"
     ]
    },
    {
     "data": {
      "text/plain": [
       "'!\"#$%&\\'()*+,-./:;<=>?@[\\\\]^_`{|}~'"
      ]
     },
     "execution_count": 4,
     "metadata": {},
     "output_type": "execute_result"
    }
   ],
   "source": [
    "nltk.download('stopwords')\n",
    "nltk.download('words')\n",
    "words = set(nltk.corpus.words.words())\n",
    "stopwords_spacy = list(STOP_WORDS)\n",
    "stopwords_spacy\n",
    "punctuation\n"
   ]
  },
  {
   "cell_type": "code",
   "execution_count": null,
   "metadata": {},
   "outputs": [],
   "source": [
    "nlp = spacy.load(\"en_core_web_sm\")"
   ]
  },
  {
   "cell_type": "code",
   "execution_count": null,
   "metadata": {},
   "outputs": [
    {
     "data": {
      "text/plain": [
       "['C:\\\\Users\\\\mednour\\\\Desktop\\\\Scrapp\\\\breakingbad\\\\corpus.csv']"
      ]
     },
     "execution_count": 6,
     "metadata": {},
     "output_type": "execute_result"
    }
   ],
   "source": [
    "path = r'C:\\Users\\mednour\\Desktop\\Scrapp\\breakingbad' # use your path\n",
    "all_files = glob.glob(path + \"/*.csv\")\n",
    "all_files"
   ]
  },
  {
   "cell_type": "code",
   "execution_count": null,
   "metadata": {},
   "outputs": [
    {
     "data": {
      "text/plain": [
       "[                                                reviews  notes\n",
       " 0     \\n  This item arrived quickly Via Amazon prime...      4\n",
       " 1     \\n  What can be said about this spectacular sa...      5\n",
       " 2     \\n  If you're just starting this series then t...      5\n",
       " 3     \\n  My husband and I are clearly behind the 8 ...      5\n",
       " 4     \\n  I watched episode 1 and then bought the wh...      5\n",
       " ...                                                 ...    ...\n",
       " 3518  \\n  I watched the first two episodes of this. ...      1\n",
       " 3519  \\n  This isn't a review on the item as i know ...      1\n",
       " 3520  \\n  Great, as described and arrived ahead of s...      5\n",
       " 3521  \\n  Worked great- no issues! It came in pristi...      5\n",
       " 3522  \\n  Breaking Bad ist auch meiner Meinung nach ...      5\n",
       " \n",
       " [3523 rows x 2 columns]]"
      ]
     },
     "execution_count": 7,
     "metadata": {},
     "output_type": "execute_result"
    }
   ],
   "source": [
    "li = []\n",
    "\n",
    "for filename in all_files:\n",
    "    df = pd.read_csv(filename,index_col=None, header=0)\n",
    "    li.append(df)\n",
    "li"
   ]
  },
  {
   "cell_type": "code",
   "execution_count": null,
   "metadata": {},
   "outputs": [],
   "source": [
    "df1=df"
   ]
  },
  {
   "cell_type": "code",
   "execution_count": null,
   "metadata": {},
   "outputs": [
    {
     "data": {
      "text/html": [
       "<div>\n",
       "<style scoped>\n",
       "    .dataframe tbody tr th:only-of-type {\n",
       "        vertical-align: middle;\n",
       "    }\n",
       "\n",
       "    .dataframe tbody tr th {\n",
       "        vertical-align: top;\n",
       "    }\n",
       "\n",
       "    .dataframe thead th {\n",
       "        text-align: right;\n",
       "    }\n",
       "</style>\n",
       "<table border=\"1\" class=\"dataframe\">\n",
       "  <thead>\n",
       "    <tr style=\"text-align: right;\">\n",
       "      <th></th>\n",
       "      <th>reviews</th>\n",
       "      <th>notes</th>\n",
       "    </tr>\n",
       "  </thead>\n",
       "  <tbody>\n",
       "    <tr>\n",
       "      <th>0</th>\n",
       "      <td>\\n  This item arrived quickly Via Amazon prime...</td>\n",
       "      <td>4</td>\n",
       "    </tr>\n",
       "    <tr>\n",
       "      <th>1</th>\n",
       "      <td>\\n  What can be said about this spectacular sa...</td>\n",
       "      <td>5</td>\n",
       "    </tr>\n",
       "    <tr>\n",
       "      <th>2</th>\n",
       "      <td>\\n  If you're just starting this series then t...</td>\n",
       "      <td>5</td>\n",
       "    </tr>\n",
       "    <tr>\n",
       "      <th>3</th>\n",
       "      <td>\\n  My husband and I are clearly behind the 8 ...</td>\n",
       "      <td>5</td>\n",
       "    </tr>\n",
       "    <tr>\n",
       "      <th>4</th>\n",
       "      <td>\\n  I watched episode 1 and then bought the wh...</td>\n",
       "      <td>5</td>\n",
       "    </tr>\n",
       "    <tr>\n",
       "      <th>...</th>\n",
       "      <td>...</td>\n",
       "      <td>...</td>\n",
       "    </tr>\n",
       "    <tr>\n",
       "      <th>3518</th>\n",
       "      <td>\\n  I watched the first two episodes of this. ...</td>\n",
       "      <td>1</td>\n",
       "    </tr>\n",
       "    <tr>\n",
       "      <th>3519</th>\n",
       "      <td>\\n  This isn't a review on the item as i know ...</td>\n",
       "      <td>1</td>\n",
       "    </tr>\n",
       "    <tr>\n",
       "      <th>3520</th>\n",
       "      <td>\\n  Great, as described and arrived ahead of s...</td>\n",
       "      <td>5</td>\n",
       "    </tr>\n",
       "    <tr>\n",
       "      <th>3521</th>\n",
       "      <td>\\n  Worked great- no issues! It came in pristi...</td>\n",
       "      <td>5</td>\n",
       "    </tr>\n",
       "    <tr>\n",
       "      <th>3522</th>\n",
       "      <td>\\n  Breaking Bad ist auch meiner Meinung nach ...</td>\n",
       "      <td>5</td>\n",
       "    </tr>\n",
       "  </tbody>\n",
       "</table>\n",
       "<p>3523 rows × 2 columns</p>\n",
       "</div>"
      ],
      "text/plain": [
       "                                                reviews  notes\n",
       "0     \\n  This item arrived quickly Via Amazon prime...      4\n",
       "1     \\n  What can be said about this spectacular sa...      5\n",
       "2     \\n  If you're just starting this series then t...      5\n",
       "3     \\n  My husband and I are clearly behind the 8 ...      5\n",
       "4     \\n  I watched episode 1 and then bought the wh...      5\n",
       "...                                                 ...    ...\n",
       "3518  \\n  I watched the first two episodes of this. ...      1\n",
       "3519  \\n  This isn't a review on the item as i know ...      1\n",
       "3520  \\n  Great, as described and arrived ahead of s...      5\n",
       "3521  \\n  Worked great- no issues! It came in pristi...      5\n",
       "3522  \\n  Breaking Bad ist auch meiner Meinung nach ...      5\n",
       "\n",
       "[3523 rows x 2 columns]"
      ]
     },
     "execution_count": 9,
     "metadata": {},
     "output_type": "execute_result"
    }
   ],
   "source": [
    "df1"
   ]
  },
  {
   "cell_type": "code",
   "execution_count": null,
   "metadata": {},
   "outputs": [],
   "source": [
    "path2 = r'C:\\Users\\mednour\\Desktop\\Scrapp\\BreakingBadReviews' # use your path\n",
    "all_files2= glob.glob(path2 + \"/*.csv\")\n",
    "\n",
    "li2 = []"
   ]
  },
  {
   "cell_type": "code",
   "execution_count": null,
   "metadata": {},
   "outputs": [
    {
     "data": {
      "text/plain": [
       "[      Unnamed: 0                                            reviews  notes\n",
       " 0              0  'Breaking Bad' is one of the most popular rate...     10\n",
       " 1              1  Bryan Cranston shows his acting skills portray...      9\n",
       " 2              2  The outline is clear. Most people will know wh...     10\n",
       " 3              3  Some years after writing for \"The X Files\", Vi...     10\n",
       " 4              4  To provide for his family (pregnant wife Anna ...      8\n",
       " ...          ...                                                ...    ...\n",
       " 3460        3460  If you've never seen Breaking Bad then you mus...     10\n",
       " 3461        3461  The greatest TV show of all time!!!This is the...     10\n",
       " 3462        3462  A 5 seasons show, 3 of them are boring and ful...      1\n",
       " 3463        3463  This TV Show is The Definition of Perfect\\nNum...     10\n",
       " 3464        3464  Best show you will ever watch. It will exceed ...     10\n",
       " \n",
       " [3465 rows x 3 columns],\n",
       "         Name                                            Comment          Date  \\\n",
       " 0    Roofy D  Season 1 of Breaking Bad often feels like a sl...  Nov 16, 2021   \n",
       " 1  richard m  My name is Walter Hartwell White. I live at 30...  Nov 13, 2021   \n",
       " 2   Daniel B  Sin duda lo que hace excepcional esta primera ...  Oct 25, 2021   \n",
       " 3        NaN       جمال هذا المسلسل يجعلني اعيد مشاهدته دون ملل  Oct 14, 2021   \n",
       " 4     Yang D                    Best show in history of mankind  Sep 02, 2021   \n",
       " 5  Camille C  Do you remember your chemistry teacher? If you...  Sep 01, 2021   \n",
       " 6   Pancho G  The season 1 is a healthy presentation of what...  Aug 27, 2021   \n",
       " 7     Luke V  Breaking Bad is awesome. \\nSeason one we meet ...  Aug 17, 2021   \n",
       " 8    Matty J  Breaking Bad is without a doubt the best show ...  Aug 08, 2021   \n",
       " 9    Mason H  Breaking Bad season 1 is such a great first se...  Jul 05, 2021   \n",
       " \n",
       "    Rate  \n",
       " 0     3  \n",
       " 1     4  \n",
       " 2     4  \n",
       " 3     5  \n",
       " 4     5  \n",
       " 5     5  \n",
       " 6     4  \n",
       " 7     5  \n",
       " 8     5  \n",
       " 9     4  ,\n",
       "       Unnamed: 0                                            reviews  notes\n",
       " 0              0  Was over-time on a gradual binge of watching '...     10\n",
       " 1              1  In the fictional Seven Kingdoms of Westeros, t...      9\n",
       " 2              2  I am writing this because according to the IMD...     10\n",
       " 3              3  So I succesfully avoided major spoilers about ...      9\n",
       " 4              4  I understand that George R. R. Martin based \"A...      8\n",
       " ...          ...                                                ...    ...\n",
       " 4084        4084  What a final? Wonderful tv show, character and...      8\n",
       " 4085        4085  Many of the reviews below reflect exactly how ...      5\n",
       " 4086        4086  .................................................     10\n",
       " 4087        4087  Drop down season 8\\nIt's very disappointed sea...      1\n",
       " 4088        4088  Best tv serie of the times, i just simply love...     10\n",
       " \n",
       " [4089 rows x 3 columns]]"
      ]
     },
     "execution_count": 11,
     "metadata": {},
     "output_type": "execute_result"
    }
   ],
   "source": [
    "for filename in all_files2:\n",
    "    df = pd.read_csv(filename)\n",
    "    li2.append(df)\n",
    "li2"
   ]
  },
  {
   "cell_type": "code",
   "execution_count": null,
   "metadata": {},
   "outputs": [],
   "source": [
    "df2= pd.concat(li2, axis=0, ignore_index=True)"
   ]
  },
  {
   "cell_type": "code",
   "execution_count": null,
   "metadata": {},
   "outputs": [
    {
     "data": {
      "text/html": [
       "<div>\n",
       "<style scoped>\n",
       "    .dataframe tbody tr th:only-of-type {\n",
       "        vertical-align: middle;\n",
       "    }\n",
       "\n",
       "    .dataframe tbody tr th {\n",
       "        vertical-align: top;\n",
       "    }\n",
       "\n",
       "    .dataframe thead th {\n",
       "        text-align: right;\n",
       "    }\n",
       "</style>\n",
       "<table border=\"1\" class=\"dataframe\">\n",
       "  <thead>\n",
       "    <tr style=\"text-align: right;\">\n",
       "      <th></th>\n",
       "      <th>Unnamed: 0</th>\n",
       "      <th>reviews</th>\n",
       "      <th>notes</th>\n",
       "      <th>Name</th>\n",
       "      <th>Comment</th>\n",
       "      <th>Date</th>\n",
       "      <th>Rate</th>\n",
       "    </tr>\n",
       "  </thead>\n",
       "  <tbody>\n",
       "    <tr>\n",
       "      <th>0</th>\n",
       "      <td>0.0</td>\n",
       "      <td>'Breaking Bad' is one of the most popular rate...</td>\n",
       "      <td>10.0</td>\n",
       "      <td>NaN</td>\n",
       "      <td>NaN</td>\n",
       "      <td>NaN</td>\n",
       "      <td>NaN</td>\n",
       "    </tr>\n",
       "    <tr>\n",
       "      <th>1</th>\n",
       "      <td>1.0</td>\n",
       "      <td>Bryan Cranston shows his acting skills portray...</td>\n",
       "      <td>9.0</td>\n",
       "      <td>NaN</td>\n",
       "      <td>NaN</td>\n",
       "      <td>NaN</td>\n",
       "      <td>NaN</td>\n",
       "    </tr>\n",
       "    <tr>\n",
       "      <th>2</th>\n",
       "      <td>2.0</td>\n",
       "      <td>The outline is clear. Most people will know wh...</td>\n",
       "      <td>10.0</td>\n",
       "      <td>NaN</td>\n",
       "      <td>NaN</td>\n",
       "      <td>NaN</td>\n",
       "      <td>NaN</td>\n",
       "    </tr>\n",
       "    <tr>\n",
       "      <th>3</th>\n",
       "      <td>3.0</td>\n",
       "      <td>Some years after writing for \"The X Files\", Vi...</td>\n",
       "      <td>10.0</td>\n",
       "      <td>NaN</td>\n",
       "      <td>NaN</td>\n",
       "      <td>NaN</td>\n",
       "      <td>NaN</td>\n",
       "    </tr>\n",
       "    <tr>\n",
       "      <th>4</th>\n",
       "      <td>4.0</td>\n",
       "      <td>To provide for his family (pregnant wife Anna ...</td>\n",
       "      <td>8.0</td>\n",
       "      <td>NaN</td>\n",
       "      <td>NaN</td>\n",
       "      <td>NaN</td>\n",
       "      <td>NaN</td>\n",
       "    </tr>\n",
       "    <tr>\n",
       "      <th>...</th>\n",
       "      <td>...</td>\n",
       "      <td>...</td>\n",
       "      <td>...</td>\n",
       "      <td>...</td>\n",
       "      <td>...</td>\n",
       "      <td>...</td>\n",
       "      <td>...</td>\n",
       "    </tr>\n",
       "    <tr>\n",
       "      <th>7559</th>\n",
       "      <td>4084.0</td>\n",
       "      <td>What a final? Wonderful tv show, character and...</td>\n",
       "      <td>8.0</td>\n",
       "      <td>NaN</td>\n",
       "      <td>NaN</td>\n",
       "      <td>NaN</td>\n",
       "      <td>NaN</td>\n",
       "    </tr>\n",
       "    <tr>\n",
       "      <th>7560</th>\n",
       "      <td>4085.0</td>\n",
       "      <td>Many of the reviews below reflect exactly how ...</td>\n",
       "      <td>5.0</td>\n",
       "      <td>NaN</td>\n",
       "      <td>NaN</td>\n",
       "      <td>NaN</td>\n",
       "      <td>NaN</td>\n",
       "    </tr>\n",
       "    <tr>\n",
       "      <th>7561</th>\n",
       "      <td>4086.0</td>\n",
       "      <td>.................................................</td>\n",
       "      <td>10.0</td>\n",
       "      <td>NaN</td>\n",
       "      <td>NaN</td>\n",
       "      <td>NaN</td>\n",
       "      <td>NaN</td>\n",
       "    </tr>\n",
       "    <tr>\n",
       "      <th>7562</th>\n",
       "      <td>4087.0</td>\n",
       "      <td>Drop down season 8\\nIt's very disappointed sea...</td>\n",
       "      <td>1.0</td>\n",
       "      <td>NaN</td>\n",
       "      <td>NaN</td>\n",
       "      <td>NaN</td>\n",
       "      <td>NaN</td>\n",
       "    </tr>\n",
       "    <tr>\n",
       "      <th>7563</th>\n",
       "      <td>4088.0</td>\n",
       "      <td>Best tv serie of the times, i just simply love...</td>\n",
       "      <td>10.0</td>\n",
       "      <td>NaN</td>\n",
       "      <td>NaN</td>\n",
       "      <td>NaN</td>\n",
       "      <td>NaN</td>\n",
       "    </tr>\n",
       "  </tbody>\n",
       "</table>\n",
       "<p>7564 rows × 7 columns</p>\n",
       "</div>"
      ],
      "text/plain": [
       "      Unnamed: 0                                            reviews  notes  \\\n",
       "0            0.0  'Breaking Bad' is one of the most popular rate...   10.0   \n",
       "1            1.0  Bryan Cranston shows his acting skills portray...    9.0   \n",
       "2            2.0  The outline is clear. Most people will know wh...   10.0   \n",
       "3            3.0  Some years after writing for \"The X Files\", Vi...   10.0   \n",
       "4            4.0  To provide for his family (pregnant wife Anna ...    8.0   \n",
       "...          ...                                                ...    ...   \n",
       "7559      4084.0  What a final? Wonderful tv show, character and...    8.0   \n",
       "7560      4085.0  Many of the reviews below reflect exactly how ...    5.0   \n",
       "7561      4086.0  .................................................   10.0   \n",
       "7562      4087.0  Drop down season 8\\nIt's very disappointed sea...    1.0   \n",
       "7563      4088.0  Best tv serie of the times, i just simply love...   10.0   \n",
       "\n",
       "     Name Comment Date  Rate  \n",
       "0     NaN     NaN  NaN   NaN  \n",
       "1     NaN     NaN  NaN   NaN  \n",
       "2     NaN     NaN  NaN   NaN  \n",
       "3     NaN     NaN  NaN   NaN  \n",
       "4     NaN     NaN  NaN   NaN  \n",
       "...   ...     ...  ...   ...  \n",
       "7559  NaN     NaN  NaN   NaN  \n",
       "7560  NaN     NaN  NaN   NaN  \n",
       "7561  NaN     NaN  NaN   NaN  \n",
       "7562  NaN     NaN  NaN   NaN  \n",
       "7563  NaN     NaN  NaN   NaN  \n",
       "\n",
       "[7564 rows x 7 columns]"
      ]
     },
     "execution_count": 13,
     "metadata": {},
     "output_type": "execute_result"
    }
   ],
   "source": [
    "df2"
   ]
  },
  {
   "cell_type": "code",
   "execution_count": null,
   "metadata": {},
   "outputs": [],
   "source": [
    "df2=df2[['reviews','notes']]"
   ]
  },
  {
   "cell_type": "code",
   "execution_count": null,
   "metadata": {},
   "outputs": [
    {
     "data": {
      "text/html": [
       "<div>\n",
       "<style scoped>\n",
       "    .dataframe tbody tr th:only-of-type {\n",
       "        vertical-align: middle;\n",
       "    }\n",
       "\n",
       "    .dataframe tbody tr th {\n",
       "        vertical-align: top;\n",
       "    }\n",
       "\n",
       "    .dataframe thead th {\n",
       "        text-align: right;\n",
       "    }\n",
       "</style>\n",
       "<table border=\"1\" class=\"dataframe\">\n",
       "  <thead>\n",
       "    <tr style=\"text-align: right;\">\n",
       "      <th></th>\n",
       "      <th>reviews</th>\n",
       "      <th>notes</th>\n",
       "    </tr>\n",
       "  </thead>\n",
       "  <tbody>\n",
       "    <tr>\n",
       "      <th>0</th>\n",
       "      <td>'Breaking Bad' is one of the most popular rate...</td>\n",
       "      <td>10.0</td>\n",
       "    </tr>\n",
       "    <tr>\n",
       "      <th>1</th>\n",
       "      <td>Bryan Cranston shows his acting skills portray...</td>\n",
       "      <td>9.0</td>\n",
       "    </tr>\n",
       "    <tr>\n",
       "      <th>2</th>\n",
       "      <td>The outline is clear. Most people will know wh...</td>\n",
       "      <td>10.0</td>\n",
       "    </tr>\n",
       "    <tr>\n",
       "      <th>3</th>\n",
       "      <td>Some years after writing for \"The X Files\", Vi...</td>\n",
       "      <td>10.0</td>\n",
       "    </tr>\n",
       "    <tr>\n",
       "      <th>4</th>\n",
       "      <td>To provide for his family (pregnant wife Anna ...</td>\n",
       "      <td>8.0</td>\n",
       "    </tr>\n",
       "    <tr>\n",
       "      <th>...</th>\n",
       "      <td>...</td>\n",
       "      <td>...</td>\n",
       "    </tr>\n",
       "    <tr>\n",
       "      <th>7559</th>\n",
       "      <td>What a final? Wonderful tv show, character and...</td>\n",
       "      <td>8.0</td>\n",
       "    </tr>\n",
       "    <tr>\n",
       "      <th>7560</th>\n",
       "      <td>Many of the reviews below reflect exactly how ...</td>\n",
       "      <td>5.0</td>\n",
       "    </tr>\n",
       "    <tr>\n",
       "      <th>7561</th>\n",
       "      <td>.................................................</td>\n",
       "      <td>10.0</td>\n",
       "    </tr>\n",
       "    <tr>\n",
       "      <th>7562</th>\n",
       "      <td>Drop down season 8\\nIt's very disappointed sea...</td>\n",
       "      <td>1.0</td>\n",
       "    </tr>\n",
       "    <tr>\n",
       "      <th>7563</th>\n",
       "      <td>Best tv serie of the times, i just simply love...</td>\n",
       "      <td>10.0</td>\n",
       "    </tr>\n",
       "  </tbody>\n",
       "</table>\n",
       "<p>7564 rows × 2 columns</p>\n",
       "</div>"
      ],
      "text/plain": [
       "                                                reviews  notes\n",
       "0     'Breaking Bad' is one of the most popular rate...   10.0\n",
       "1     Bryan Cranston shows his acting skills portray...    9.0\n",
       "2     The outline is clear. Most people will know wh...   10.0\n",
       "3     Some years after writing for \"The X Files\", Vi...   10.0\n",
       "4     To provide for his family (pregnant wife Anna ...    8.0\n",
       "...                                                 ...    ...\n",
       "7559  What a final? Wonderful tv show, character and...    8.0\n",
       "7560  Many of the reviews below reflect exactly how ...    5.0\n",
       "7561  .................................................   10.0\n",
       "7562  Drop down season 8\\nIt's very disappointed sea...    1.0\n",
       "7563  Best tv serie of the times, i just simply love...   10.0\n",
       "\n",
       "[7564 rows x 2 columns]"
      ]
     },
     "execution_count": 15,
     "metadata": {},
     "output_type": "execute_result"
    }
   ],
   "source": [
    "df2"
   ]
  },
  {
   "cell_type": "code",
   "execution_count": null,
   "metadata": {},
   "outputs": [],
   "source": [
    "result = pd.concat([df2, df1], ignore_index=True)"
   ]
  },
  {
   "cell_type": "code",
   "execution_count": null,
   "metadata": {},
   "outputs": [
    {
     "data": {
      "text/html": [
       "<div>\n",
       "<style scoped>\n",
       "    .dataframe tbody tr th:only-of-type {\n",
       "        vertical-align: middle;\n",
       "    }\n",
       "\n",
       "    .dataframe tbody tr th {\n",
       "        vertical-align: top;\n",
       "    }\n",
       "\n",
       "    .dataframe thead th {\n",
       "        text-align: right;\n",
       "    }\n",
       "</style>\n",
       "<table border=\"1\" class=\"dataframe\">\n",
       "  <thead>\n",
       "    <tr style=\"text-align: right;\">\n",
       "      <th></th>\n",
       "      <th>reviews</th>\n",
       "      <th>notes</th>\n",
       "    </tr>\n",
       "  </thead>\n",
       "  <tbody>\n",
       "    <tr>\n",
       "      <th>0</th>\n",
       "      <td>'Breaking Bad' is one of the most popular rate...</td>\n",
       "      <td>10.0</td>\n",
       "    </tr>\n",
       "    <tr>\n",
       "      <th>1</th>\n",
       "      <td>Bryan Cranston shows his acting skills portray...</td>\n",
       "      <td>9.0</td>\n",
       "    </tr>\n",
       "    <tr>\n",
       "      <th>2</th>\n",
       "      <td>The outline is clear. Most people will know wh...</td>\n",
       "      <td>10.0</td>\n",
       "    </tr>\n",
       "    <tr>\n",
       "      <th>3</th>\n",
       "      <td>Some years after writing for \"The X Files\", Vi...</td>\n",
       "      <td>10.0</td>\n",
       "    </tr>\n",
       "    <tr>\n",
       "      <th>4</th>\n",
       "      <td>To provide for his family (pregnant wife Anna ...</td>\n",
       "      <td>8.0</td>\n",
       "    </tr>\n",
       "    <tr>\n",
       "      <th>...</th>\n",
       "      <td>...</td>\n",
       "      <td>...</td>\n",
       "    </tr>\n",
       "    <tr>\n",
       "      <th>11082</th>\n",
       "      <td>\\n  I watched the first two episodes of this. ...</td>\n",
       "      <td>1.0</td>\n",
       "    </tr>\n",
       "    <tr>\n",
       "      <th>11083</th>\n",
       "      <td>\\n  This isn't a review on the item as i know ...</td>\n",
       "      <td>1.0</td>\n",
       "    </tr>\n",
       "    <tr>\n",
       "      <th>11084</th>\n",
       "      <td>\\n  Great, as described and arrived ahead of s...</td>\n",
       "      <td>5.0</td>\n",
       "    </tr>\n",
       "    <tr>\n",
       "      <th>11085</th>\n",
       "      <td>\\n  Worked great- no issues! It came in pristi...</td>\n",
       "      <td>5.0</td>\n",
       "    </tr>\n",
       "    <tr>\n",
       "      <th>11086</th>\n",
       "      <td>\\n  Breaking Bad ist auch meiner Meinung nach ...</td>\n",
       "      <td>5.0</td>\n",
       "    </tr>\n",
       "  </tbody>\n",
       "</table>\n",
       "<p>11087 rows × 2 columns</p>\n",
       "</div>"
      ],
      "text/plain": [
       "                                                 reviews  notes\n",
       "0      'Breaking Bad' is one of the most popular rate...   10.0\n",
       "1      Bryan Cranston shows his acting skills portray...    9.0\n",
       "2      The outline is clear. Most people will know wh...   10.0\n",
       "3      Some years after writing for \"The X Files\", Vi...   10.0\n",
       "4      To provide for his family (pregnant wife Anna ...    8.0\n",
       "...                                                  ...    ...\n",
       "11082  \\n  I watched the first two episodes of this. ...    1.0\n",
       "11083  \\n  This isn't a review on the item as i know ...    1.0\n",
       "11084  \\n  Great, as described and arrived ahead of s...    5.0\n",
       "11085  \\n  Worked great- no issues! It came in pristi...    5.0\n",
       "11086  \\n  Breaking Bad ist auch meiner Meinung nach ...    5.0\n",
       "\n",
       "[11087 rows x 2 columns]"
      ]
     },
     "execution_count": 17,
     "metadata": {},
     "output_type": "execute_result"
    }
   ],
   "source": [
    "result"
   ]
  },
  {
   "cell_type": "code",
   "execution_count": null,
   "metadata": {},
   "outputs": [],
   "source": [
    "result.to_csv(\"result.csv\",index=False)"
   ]
  },
  {
   "cell_type": "code",
   "execution_count": null,
   "metadata": {},
   "outputs": [
    {
     "data": {
      "text/html": [
       "<div>\n",
       "<style scoped>\n",
       "    .dataframe tbody tr th:only-of-type {\n",
       "        vertical-align: middle;\n",
       "    }\n",
       "\n",
       "    .dataframe tbody tr th {\n",
       "        vertical-align: top;\n",
       "    }\n",
       "\n",
       "    .dataframe thead th {\n",
       "        text-align: right;\n",
       "    }\n",
       "</style>\n",
       "<table border=\"1\" class=\"dataframe\">\n",
       "  <thead>\n",
       "    <tr style=\"text-align: right;\">\n",
       "      <th></th>\n",
       "      <th>reviews</th>\n",
       "      <th>notes</th>\n",
       "    </tr>\n",
       "  </thead>\n",
       "  <tbody>\n",
       "    <tr>\n",
       "      <th>0</th>\n",
       "      <td>'Breaking Bad' is one of the most popular rate...</td>\n",
       "      <td>10.0</td>\n",
       "    </tr>\n",
       "    <tr>\n",
       "      <th>1</th>\n",
       "      <td>Bryan Cranston shows his acting skills portray...</td>\n",
       "      <td>9.0</td>\n",
       "    </tr>\n",
       "    <tr>\n",
       "      <th>2</th>\n",
       "      <td>The outline is clear. Most people will know wh...</td>\n",
       "      <td>10.0</td>\n",
       "    </tr>\n",
       "    <tr>\n",
       "      <th>3</th>\n",
       "      <td>Some years after writing for \"The X Files\", Vi...</td>\n",
       "      <td>10.0</td>\n",
       "    </tr>\n",
       "    <tr>\n",
       "      <th>4</th>\n",
       "      <td>To provide for his family (pregnant wife Anna ...</td>\n",
       "      <td>8.0</td>\n",
       "    </tr>\n",
       "    <tr>\n",
       "      <th>...</th>\n",
       "      <td>...</td>\n",
       "      <td>...</td>\n",
       "    </tr>\n",
       "    <tr>\n",
       "      <th>11082</th>\n",
       "      <td>\\n  I watched the first two episodes of this. ...</td>\n",
       "      <td>1.0</td>\n",
       "    </tr>\n",
       "    <tr>\n",
       "      <th>11083</th>\n",
       "      <td>\\n  This isn't a review on the item as i know ...</td>\n",
       "      <td>1.0</td>\n",
       "    </tr>\n",
       "    <tr>\n",
       "      <th>11084</th>\n",
       "      <td>\\n  Great, as described and arrived ahead of s...</td>\n",
       "      <td>5.0</td>\n",
       "    </tr>\n",
       "    <tr>\n",
       "      <th>11085</th>\n",
       "      <td>\\n  Worked great- no issues! It came in pristi...</td>\n",
       "      <td>5.0</td>\n",
       "    </tr>\n",
       "    <tr>\n",
       "      <th>11086</th>\n",
       "      <td>\\n  Breaking Bad ist auch meiner Meinung nach ...</td>\n",
       "      <td>5.0</td>\n",
       "    </tr>\n",
       "  </tbody>\n",
       "</table>\n",
       "<p>11087 rows × 2 columns</p>\n",
       "</div>"
      ],
      "text/plain": [
       "                                                 reviews  notes\n",
       "0      'Breaking Bad' is one of the most popular rate...   10.0\n",
       "1      Bryan Cranston shows his acting skills portray...    9.0\n",
       "2      The outline is clear. Most people will know wh...   10.0\n",
       "3      Some years after writing for \"The X Files\", Vi...   10.0\n",
       "4      To provide for his family (pregnant wife Anna ...    8.0\n",
       "...                                                  ...    ...\n",
       "11082  \\n  I watched the first two episodes of this. ...    1.0\n",
       "11083  \\n  This isn't a review on the item as i know ...    1.0\n",
       "11084  \\n  Great, as described and arrived ahead of s...    5.0\n",
       "11085  \\n  Worked great- no issues! It came in pristi...    5.0\n",
       "11086  \\n  Breaking Bad ist auch meiner Meinung nach ...    5.0\n",
       "\n",
       "[11087 rows x 2 columns]"
      ]
     },
     "execution_count": 19,
     "metadata": {},
     "output_type": "execute_result"
    }
   ],
   "source": [
    "F= pd.read_csv(\"result.csv\")\n",
    "\n",
    "F"
   ]
  },
  {
   "cell_type": "code",
   "execution_count": null,
   "metadata": {},
   "outputs": [
    {
     "data": {
      "text/plain": [
       "reviews    11\n",
       "notes      10\n",
       "dtype: int64"
      ]
     },
     "execution_count": 20,
     "metadata": {},
     "output_type": "execute_result"
    }
   ],
   "source": [
    "F.isnull().sum()\n",
    "\n"
   ]
  },
  {
   "cell_type": "code",
   "execution_count": null,
   "metadata": {},
   "outputs": [
    {
     "data": {
      "text/plain": [
       "(11087, 2)"
      ]
     },
     "execution_count": 21,
     "metadata": {},
     "output_type": "execute_result"
    }
   ],
   "source": [
    "F.shape\n",
    "\n"
   ]
  },
  {
   "cell_type": "code",
   "execution_count": null,
   "metadata": {},
   "outputs": [
    {
     "name": "stdout",
     "output_type": "stream",
     "text": [
      "Total missing values: 21.\n"
     ]
    }
   ],
   "source": [
    "# total missing values\n",
    "total_missing = F.isna().sum().sum()\n",
    "print(f'Total missing values: {total_missing}.')"
   ]
  },
  {
   "cell_type": "code",
   "execution_count": null,
   "metadata": {},
   "outputs": [
    {
     "data": {
      "text/html": [
       "<div>\n",
       "<style scoped>\n",
       "    .dataframe tbody tr th:only-of-type {\n",
       "        vertical-align: middle;\n",
       "    }\n",
       "\n",
       "    .dataframe tbody tr th {\n",
       "        vertical-align: top;\n",
       "    }\n",
       "\n",
       "    .dataframe thead th {\n",
       "        text-align: right;\n",
       "    }\n",
       "</style>\n",
       "<table border=\"1\" class=\"dataframe\">\n",
       "  <thead>\n",
       "    <tr style=\"text-align: right;\">\n",
       "      <th></th>\n",
       "      <th>reviews</th>\n",
       "      <th>notes</th>\n",
       "    </tr>\n",
       "  </thead>\n",
       "  <tbody>\n",
       "    <tr>\n",
       "      <th>0</th>\n",
       "      <td>'Breaking Bad' is one of the most popular rate...</td>\n",
       "      <td>10.0</td>\n",
       "    </tr>\n",
       "    <tr>\n",
       "      <th>1</th>\n",
       "      <td>Bryan Cranston shows his acting skills portray...</td>\n",
       "      <td>9.0</td>\n",
       "    </tr>\n",
       "    <tr>\n",
       "      <th>2</th>\n",
       "      <td>The outline is clear. Most people will know wh...</td>\n",
       "      <td>10.0</td>\n",
       "    </tr>\n",
       "    <tr>\n",
       "      <th>3</th>\n",
       "      <td>Some years after writing for \"The X Files\", Vi...</td>\n",
       "      <td>10.0</td>\n",
       "    </tr>\n",
       "    <tr>\n",
       "      <th>4</th>\n",
       "      <td>To provide for his family (pregnant wife Anna ...</td>\n",
       "      <td>8.0</td>\n",
       "    </tr>\n",
       "  </tbody>\n",
       "</table>\n",
       "</div>"
      ],
      "text/plain": [
       "                                             reviews  notes\n",
       "0  'Breaking Bad' is one of the most popular rate...   10.0\n",
       "1  Bryan Cranston shows his acting skills portray...    9.0\n",
       "2  The outline is clear. Most people will know wh...   10.0\n",
       "3  Some years after writing for \"The X Files\", Vi...   10.0\n",
       "4  To provide for his family (pregnant wife Anna ...    8.0"
      ]
     },
     "execution_count": 23,
     "metadata": {},
     "output_type": "execute_result"
    }
   ],
   "source": [
    "File = F.copy()\n",
    "File.head()"
   ]
  },
  {
   "cell_type": "code",
   "execution_count": null,
   "metadata": {},
   "outputs": [
    {
     "data": {
      "text/plain": [
       "reviews    0\n",
       "notes      0\n",
       "dtype: int64"
      ]
     },
     "execution_count": 24,
     "metadata": {},
     "output_type": "execute_result"
    }
   ],
   "source": [
    "# Delete Null Values\n",
    "File.dropna( inplace = True)\n",
    "File.isnull().sum()\n",
    "\n"
   ]
  },
  {
   "cell_type": "code",
   "execution_count": null,
   "metadata": {},
   "outputs": [
    {
     "data": {
      "text/plain": [
       "(11076, 2)"
      ]
     },
     "execution_count": 25,
     "metadata": {},
     "output_type": "execute_result"
    }
   ],
   "source": [
    "File.shape\n"
   ]
  },
  {
   "cell_type": "code",
   "execution_count": null,
   "metadata": {},
   "outputs": [
    {
     "data": {
      "text/html": [
       "<div>\n",
       "<style scoped>\n",
       "    .dataframe tbody tr th:only-of-type {\n",
       "        vertical-align: middle;\n",
       "    }\n",
       "\n",
       "    .dataframe tbody tr th {\n",
       "        vertical-align: top;\n",
       "    }\n",
       "\n",
       "    .dataframe thead th {\n",
       "        text-align: right;\n",
       "    }\n",
       "</style>\n",
       "<table border=\"1\" class=\"dataframe\">\n",
       "  <thead>\n",
       "    <tr style=\"text-align: right;\">\n",
       "      <th></th>\n",
       "      <th>reviews</th>\n",
       "      <th>notes</th>\n",
       "    </tr>\n",
       "  </thead>\n",
       "  <tbody>\n",
       "  </tbody>\n",
       "</table>\n",
       "</div>"
      ],
      "text/plain": [
       "Empty DataFrame\n",
       "Columns: [reviews, notes]\n",
       "Index: []"
      ]
     },
     "execution_count": 26,
     "metadata": {},
     "output_type": "execute_result"
    }
   ],
   "source": [
    "File.loc[File['notes'].isna()]"
   ]
  },
  {
   "cell_type": "code",
   "execution_count": null,
   "metadata": {},
   "outputs": [
    {
     "data": {
      "text/html": [
       "<div>\n",
       "<style scoped>\n",
       "    .dataframe tbody tr th:only-of-type {\n",
       "        vertical-align: middle;\n",
       "    }\n",
       "\n",
       "    .dataframe tbody tr th {\n",
       "        vertical-align: top;\n",
       "    }\n",
       "\n",
       "    .dataframe thead th {\n",
       "        text-align: right;\n",
       "    }\n",
       "</style>\n",
       "<table border=\"1\" class=\"dataframe\">\n",
       "  <thead>\n",
       "    <tr style=\"text-align: right;\">\n",
       "      <th></th>\n",
       "      <th>reviews</th>\n",
       "      <th>notes</th>\n",
       "    </tr>\n",
       "  </thead>\n",
       "  <tbody>\n",
       "    <tr>\n",
       "      <th>0</th>\n",
       "      <td>'Breaking Bad' is one of the most popular rate...</td>\n",
       "      <td>10.0</td>\n",
       "    </tr>\n",
       "    <tr>\n",
       "      <th>1</th>\n",
       "      <td>Bryan Cranston shows his acting skills portray...</td>\n",
       "      <td>9.0</td>\n",
       "    </tr>\n",
       "    <tr>\n",
       "      <th>2</th>\n",
       "      <td>The outline is clear. Most people will know wh...</td>\n",
       "      <td>10.0</td>\n",
       "    </tr>\n",
       "    <tr>\n",
       "      <th>3</th>\n",
       "      <td>Some years after writing for \"The X Files\", Vi...</td>\n",
       "      <td>10.0</td>\n",
       "    </tr>\n",
       "    <tr>\n",
       "      <th>4</th>\n",
       "      <td>To provide for his family (pregnant wife Anna ...</td>\n",
       "      <td>8.0</td>\n",
       "    </tr>\n",
       "    <tr>\n",
       "      <th>...</th>\n",
       "      <td>...</td>\n",
       "      <td>...</td>\n",
       "    </tr>\n",
       "    <tr>\n",
       "      <th>11082</th>\n",
       "      <td>\\n  I watched the first two episodes of this. ...</td>\n",
       "      <td>1.0</td>\n",
       "    </tr>\n",
       "    <tr>\n",
       "      <th>11083</th>\n",
       "      <td>\\n  This isn't a review on the item as i know ...</td>\n",
       "      <td>1.0</td>\n",
       "    </tr>\n",
       "    <tr>\n",
       "      <th>11084</th>\n",
       "      <td>\\n  Great, as described and arrived ahead of s...</td>\n",
       "      <td>5.0</td>\n",
       "    </tr>\n",
       "    <tr>\n",
       "      <th>11085</th>\n",
       "      <td>\\n  Worked great- no issues! It came in pristi...</td>\n",
       "      <td>5.0</td>\n",
       "    </tr>\n",
       "    <tr>\n",
       "      <th>11086</th>\n",
       "      <td>\\n  Breaking Bad ist auch meiner Meinung nach ...</td>\n",
       "      <td>5.0</td>\n",
       "    </tr>\n",
       "  </tbody>\n",
       "</table>\n",
       "<p>10913 rows × 2 columns</p>\n",
       "</div>"
      ],
      "text/plain": [
       "                                                 reviews  notes\n",
       "0      'Breaking Bad' is one of the most popular rate...   10.0\n",
       "1      Bryan Cranston shows his acting skills portray...    9.0\n",
       "2      The outline is clear. Most people will know wh...   10.0\n",
       "3      Some years after writing for \"The X Files\", Vi...   10.0\n",
       "4      To provide for his family (pregnant wife Anna ...    8.0\n",
       "...                                                  ...    ...\n",
       "11082  \\n  I watched the first two episodes of this. ...    1.0\n",
       "11083  \\n  This isn't a review on the item as i know ...    1.0\n",
       "11084  \\n  Great, as described and arrived ahead of s...    5.0\n",
       "11085  \\n  Worked great- no issues! It came in pristi...    5.0\n",
       "11086  \\n  Breaking Bad ist auch meiner Meinung nach ...    5.0\n",
       "\n",
       "[10913 rows x 2 columns]"
      ]
     },
     "execution_count": 27,
     "metadata": {},
     "output_type": "execute_result"
    }
   ],
   "source": [
    "File.drop_duplicates(subset=['reviews'])\n",
    "\n"
   ]
  },
  {
   "cell_type": "code",
   "execution_count": null,
   "metadata": {},
   "outputs": [
    {
     "data": {
      "text/plain": [
       "(11076, 2)"
      ]
     },
     "execution_count": 28,
     "metadata": {},
     "output_type": "execute_result"
    }
   ],
   "source": [
    "File.shape"
   ]
  },
  {
   "cell_type": "code",
   "execution_count": null,
   "metadata": {},
   "outputs": [
    {
     "name": "stdout",
     "output_type": "stream",
     "text": [
      "10.0\n",
      "5.0\n"
     ]
    }
   ],
   "source": [
    "print(File.iloc[3341,1])\n",
    "print(File.iloc[583,1])"
   ]
  },
  {
   "cell_type": "code",
   "execution_count": null,
   "metadata": {},
   "outputs": [
    {
     "data": {
      "text/html": [
       "<div>\n",
       "<style scoped>\n",
       "    .dataframe tbody tr th:only-of-type {\n",
       "        vertical-align: middle;\n",
       "    }\n",
       "\n",
       "    .dataframe tbody tr th {\n",
       "        vertical-align: top;\n",
       "    }\n",
       "\n",
       "    .dataframe thead th {\n",
       "        text-align: right;\n",
       "    }\n",
       "</style>\n",
       "<table border=\"1\" class=\"dataframe\">\n",
       "  <thead>\n",
       "    <tr style=\"text-align: right;\">\n",
       "      <th></th>\n",
       "      <th>reviews</th>\n",
       "      <th>notes</th>\n",
       "    </tr>\n",
       "  </thead>\n",
       "  <tbody>\n",
       "    <tr>\n",
       "      <th>0</th>\n",
       "      <td>'Breaking Bad' is one of the most popular rate...</td>\n",
       "      <td>10.0</td>\n",
       "    </tr>\n",
       "    <tr>\n",
       "      <th>1</th>\n",
       "      <td>Bryan Cranston shows his acting skills portray...</td>\n",
       "      <td>9.0</td>\n",
       "    </tr>\n",
       "    <tr>\n",
       "      <th>2</th>\n",
       "      <td>The outline is clear. Most people will know wh...</td>\n",
       "      <td>10.0</td>\n",
       "    </tr>\n",
       "    <tr>\n",
       "      <th>3</th>\n",
       "      <td>Some years after writing for \"The X Files\", Vi...</td>\n",
       "      <td>10.0</td>\n",
       "    </tr>\n",
       "    <tr>\n",
       "      <th>4</th>\n",
       "      <td>To provide for his family (pregnant wife Anna ...</td>\n",
       "      <td>8.0</td>\n",
       "    </tr>\n",
       "  </tbody>\n",
       "</table>\n",
       "</div>"
      ],
      "text/plain": [
       "                                             reviews  notes\n",
       "0  'Breaking Bad' is one of the most popular rate...   10.0\n",
       "1  Bryan Cranston shows his acting skills portray...    9.0\n",
       "2  The outline is clear. Most people will know wh...   10.0\n",
       "3  Some years after writing for \"The X Files\", Vi...   10.0\n",
       "4  To provide for his family (pregnant wife Anna ...    8.0"
      ]
     },
     "execution_count": 30,
     "metadata": {},
     "output_type": "execute_result"
    }
   ],
   "source": [
    "File.head()"
   ]
  },
  {
   "cell_type": "code",
   "execution_count": null,
   "metadata": {},
   "outputs": [
    {
     "name": "stdout",
     "output_type": "stream",
     "text": [
      "<class 'pandas.core.frame.DataFrame'>\n",
      "Int64Index: 11076 entries, 0 to 11086\n",
      "Data columns (total 2 columns):\n",
      " #   Column   Non-Null Count  Dtype  \n",
      "---  ------   --------------  -----  \n",
      " 0   reviews  11076 non-null  object \n",
      " 1   notes    11076 non-null  float64\n",
      "dtypes: float64(1), object(1)\n",
      "memory usage: 259.6+ KB\n"
     ]
    }
   ],
   "source": [
    "File.info()"
   ]
  },
  {
   "cell_type": "code",
   "execution_count": null,
   "metadata": {},
   "outputs": [
    {
     "name": "stdout",
     "output_type": "stream",
     "text": [
      "reviews    269\n",
      "notes      269\n",
      "dtype: int64\n"
     ]
    },
    {
     "data": {
      "text/html": [
       "<div>\n",
       "<style scoped>\n",
       "    .dataframe tbody tr th:only-of-type {\n",
       "        vertical-align: middle;\n",
       "    }\n",
       "\n",
       "    .dataframe tbody tr th {\n",
       "        vertical-align: top;\n",
       "    }\n",
       "\n",
       "    .dataframe thead th {\n",
       "        text-align: right;\n",
       "    }\n",
       "</style>\n",
       "<table border=\"1\" class=\"dataframe\">\n",
       "  <thead>\n",
       "    <tr style=\"text-align: right;\">\n",
       "      <th></th>\n",
       "      <th>reviews</th>\n",
       "      <th>notes</th>\n",
       "    </tr>\n",
       "  </thead>\n",
       "  <tbody>\n",
       "    <tr>\n",
       "      <th>99</th>\n",
       "      <td>A perfect series with a fine build up and a pe...</td>\n",
       "      <td>10.0</td>\n",
       "    </tr>\n",
       "    <tr>\n",
       "      <th>134</th>\n",
       "      <td>By the time I started watching this show, it's...</td>\n",
       "      <td>10.0</td>\n",
       "    </tr>\n",
       "    <tr>\n",
       "      <th>143</th>\n",
       "      <td>We are not worthy for a show this good. 7 year...</td>\n",
       "      <td>10.0</td>\n",
       "    </tr>\n",
       "    <tr>\n",
       "      <th>150</th>\n",
       "      <td>Just because you intend to do good, doesn't me...</td>\n",
       "      <td>10.0</td>\n",
       "    </tr>\n",
       "    <tr>\n",
       "      <th>170</th>\n",
       "      <td>This is what perfection looks like folks, I'm ...</td>\n",
       "      <td>10.0</td>\n",
       "    </tr>\n",
       "    <tr>\n",
       "      <th>...</th>\n",
       "      <td>...</td>\n",
       "      <td>...</td>\n",
       "    </tr>\n",
       "    <tr>\n",
       "      <th>10595</th>\n",
       "      <td>\\n  Totalmente en español, y si te gusta la se...</td>\n",
       "      <td>5.0</td>\n",
       "    </tr>\n",
       "    <tr>\n",
       "      <th>10876</th>\n",
       "      <td>\\n  This was a good buy.It was a great season ...</td>\n",
       "      <td>5.0</td>\n",
       "    </tr>\n",
       "    <tr>\n",
       "      <th>10883</th>\n",
       "      <td>\\n  Wer mit \"breaking bad\" anfängt, wird NICHT...</td>\n",
       "      <td>5.0</td>\n",
       "    </tr>\n",
       "    <tr>\n",
       "      <th>11043</th>\n",
       "      <td>\\n  habe mir die staffeln von breaking bad bes...</td>\n",
       "      <td>3.0</td>\n",
       "    </tr>\n",
       "    <tr>\n",
       "      <th>11083</th>\n",
       "      <td>\\n  This isn't a review on the item as i know ...</td>\n",
       "      <td>1.0</td>\n",
       "    </tr>\n",
       "  </tbody>\n",
       "</table>\n",
       "<p>269 rows × 2 columns</p>\n",
       "</div>"
      ],
      "text/plain": [
       "                                                 reviews  notes\n",
       "99     A perfect series with a fine build up and a pe...   10.0\n",
       "134    By the time I started watching this show, it's...   10.0\n",
       "143    We are not worthy for a show this good. 7 year...   10.0\n",
       "150    Just because you intend to do good, doesn't me...   10.0\n",
       "170    This is what perfection looks like folks, I'm ...   10.0\n",
       "...                                                  ...    ...\n",
       "10595  \\n  Totalmente en español, y si te gusta la se...    5.0\n",
       "10876  \\n  This was a good buy.It was a great season ...    5.0\n",
       "10883  \\n  Wer mit \"breaking bad\" anfängt, wird NICHT...    5.0\n",
       "11043  \\n  habe mir die staffeln von breaking bad bes...    3.0\n",
       "11083  \\n  This isn't a review on the item as i know ...    1.0\n",
       "\n",
       "[269 rows x 2 columns]"
      ]
     },
     "execution_count": 32,
     "metadata": {},
     "output_type": "execute_result"
    }
   ],
   "source": [
    "found = File[File['reviews'].str.contains('breaking bad')]\n",
    "print(found.count())\n",
    "File[File['reviews'].str.contains('breaking bad')]\n",
    "\n",
    "\n"
   ]
  },
  {
   "cell_type": "code",
   "execution_count": null,
   "metadata": {},
   "outputs": [
    {
     "name": "stdout",
     "output_type": "stream",
     "text": [
      "Greetings from Lithuania.\"Game of Thrones\" (2011-) is arguably the best current show in a world. It has everything to be on top, and it is. I won't say nothing new that wasn't already said before, but still... This is brilliant show from start till finish, in every direction. Probably there wasn't a show before with this big, rich ambitious scope. Yes, it's based on amazing material, but realize it on the screen takes a guts, money and talent. No other network couldn't pull it of, except HBO. You can clearly see every dollar that was spent on screen, and usually, not in directly way - i mean the locations, settings, costumes, art design, special effects - it's all there, you can almost feel it. I won't lie, i don't like fantasy genre in general, but \"Game of Thrones\" sucks you in from the opening scene and doesn't let go. To appreciate this show you don't have read books - just enjoy the beat, small things on screen - when you will see them, the whole picture will come itself. I could talk for hours of how brilliant this thing is, but you have to see it by yourself to understand.Overall, 4 seasons have gone, and it's a solid 10/10 for \"Game of Thrones\" - a truly unique and almost flawless adventure in every direction - it's dark, gruesome, gritty and unforgettable, a must see for everyone and even those who don't like fantasy - you won't regret it.\n"
     ]
    }
   ],
   "source": [
    "print(File.iloc[3482,0])"
   ]
  },
  {
   "cell_type": "code",
   "execution_count": null,
   "metadata": {},
   "outputs": [],
   "source": [
    "File = File.replace('<[^<]+?>', '', regex = True)\n",
    "File = File.replace('\\n', '', regex = True)\n",
    "File = File.replace('\\t', '', regex = True)\n",
    "#\\d remove numbers\n",
    "File = File.replace('\\d', '', regex = True)\n",
    "#File = File.replace('\\s', '', regex = True)\n"
   ]
  },
  {
   "cell_type": "code",
   "execution_count": null,
   "metadata": {},
   "outputs": [],
   "source": [
    "File['reviews'] = File['reviews'].str.lower()\n",
    "\n"
   ]
  },
  {
   "cell_type": "code",
   "execution_count": null,
   "metadata": {},
   "outputs": [
    {
     "name": "stdout",
     "output_type": "stream",
     "text": [
      "APL=A Programming Language\n",
      "\n",
      "['APL', 'A Programming Language\\n']\n",
      "OMGAGA=Oh My God\n",
      "\n",
      "['OMGAGA', 'Oh My God\\n']\n",
      "OMG=Oh My God\n",
      "\n",
      "['OMG', 'Oh My God\\n']\n",
      "AFAIK=As Far As I Know\n",
      "\n",
      "['AFAIK', 'As Far As I Know\\n']\n",
      "AFK=Away From Keyboard\n",
      "\n",
      "['AFK', 'Away From Keyboard\\n']\n",
      "ASAP=As Soon As Possible\n",
      "\n",
      "['ASAP', 'As Soon As Possible\\n']\n",
      "ATK=At The Keyboard\n",
      "\n",
      "['ATK', 'At The Keyboard\\n']\n",
      "ATM=At The Moment\n",
      "\n",
      "['ATM', 'At The Moment\\n']\n",
      "A3=Anytime, Anywhere, Anyplace\n",
      "\n",
      "['A3', 'Anytime, Anywhere, Anyplace\\n']\n",
      "BAK=Back At Keyboard\n",
      "\n",
      "['BAK', 'Back At Keyboard\\n']\n",
      "BBL=Be Back Later\n",
      "\n",
      "['BBL', 'Be Back Later\\n']\n",
      "BBS=Be Back Soon\n",
      "\n",
      "['BBS', 'Be Back Soon\\n']\n",
      "BFN=Bye For Now\n",
      "\n",
      "['BFN', 'Bye For Now\\n']\n",
      "B4N=Bye For Now\n",
      "\n",
      "['B4N', 'Bye For Now\\n']\n",
      "BRB=Be Right Back\n",
      "\n",
      "['BRB', 'Be Right Back\\n']\n",
      "BRT=Be Right There\n",
      "\n",
      "['BRT', 'Be Right There\\n']\n",
      "BTW=By The Way\n",
      "\n",
      "['BTW', 'By The Way\\n']\n",
      "B4=Before\n",
      "\n",
      "['B4', 'Before\\n']\n",
      "B4N=Bye For Now\n",
      "\n",
      "['B4N', 'Bye For Now\\n']\n",
      "CU=See You\n",
      "\n",
      "['CU', 'See You\\n']\n",
      "CUL8R=See You Later\n",
      "\n",
      "['CUL8R', 'See You Later\\n']\n",
      "CYA=See You\n",
      "\n",
      "['CYA', 'See You\\n']\n",
      "FAQ=Frequently Asked Questions\n",
      "\n",
      "['FAQ', 'Frequently Asked Questions\\n']\n",
      "FC=Fingers Crossed\n",
      "\n",
      "['FC', 'Fingers Crossed\\n']\n",
      "FWIW=For What It's Worth\n",
      "\n",
      "['FWIW', \"For What It's Worth\\n\"]\n",
      "FYI=For Your Information\n",
      "\n",
      "['FYI', 'For Your Information\\n']\n",
      "GAL=Get A Life\n",
      "\n",
      "['GAL', 'Get A Life\\n']\n",
      "GG=Good Game\n",
      "\n",
      "['GG', 'Good Game\\n']\n",
      "GN=Good Night\n",
      "\n",
      "['GN', 'Good Night\\n']\n",
      "GMTA=Great Minds Think Alike\n",
      "\n",
      "['GMTA', 'Great Minds Think Alike\\n']\n",
      "GR8=Great!\n",
      "\n",
      "['GR8', 'Great!\\n']\n",
      "G9=Genius\n",
      "\n",
      "['G9', 'Genius\\n']\n",
      "IC=I See\n",
      "\n",
      "['IC', 'I See\\n']\n",
      "ICQ=I Seek you (also a chat program)\n",
      "\n",
      "['ICQ', 'I Seek you (also a chat program)\\n']\n",
      "ILU=ILU: I Love You\n",
      "\n",
      "['ILU', 'ILU: I Love You\\n']\n",
      "IMHO=In My Honest/Humble Opinion\n",
      "\n",
      "['IMHO', 'In My Honest/Humble Opinion\\n']\n",
      "IMO=In My Opinion\n",
      "\n",
      "['IMO', 'In My Opinion\\n']\n",
      "IOW=In Other Words\n",
      "\n",
      "['IOW', 'In Other Words\\n']\n",
      "IRL=In Real Life\n",
      "\n",
      "['IRL', 'In Real Life\\n']\n",
      "KISS=Keep It Simple, Stupid\n",
      "\n",
      "['KISS', 'Keep It Simple, Stupid\\n']\n",
      "LDR=Long Distance Relationship\n",
      "\n",
      "['LDR', 'Long Distance Relationship\\n']\n",
      "LMAO=Laugh My A.. Off\n",
      "\n",
      "['LMAO', 'Laugh My A.. Off\\n']\n",
      "LOL=Laughing Out Loud\n",
      "\n",
      "['LOL', 'Laughing Out Loud\\n']\n",
      "LTNS=Long Time No See\n",
      "\n",
      "['LTNS', 'Long Time No See\\n']\n",
      "L8R=Later\n",
      "\n",
      "['L8R', 'Later\\n']\n",
      "MTE=My Thoughts Exactly\n",
      "\n",
      "['MTE', 'My Thoughts Exactly\\n']\n",
      "M8=Mate\n",
      "\n",
      "['M8', 'Mate\\n']\n",
      "NRN=No Reply Necessary\n",
      "\n",
      "['NRN', 'No Reply Necessary\\n']\n",
      "OIC=Oh I See\n",
      "\n",
      "['OIC', 'Oh I See\\n']\n",
      "PITA=Pain In The A..\n",
      "\n",
      "['PITA', 'Pain In The A..\\n']\n",
      "PRT=Party\n",
      "\n",
      "['PRT', 'Party\\n']\n",
      "PRW=Parents Are Watching\n",
      "\n",
      "['PRW', 'Parents Are Watching\\n']\n",
      "ROFL=Rolling On The Floor Laughing\n",
      "\n",
      "['ROFL', 'Rolling On The Floor Laughing\\n']\n",
      "ROFLOL=Rolling On The Floor Laughing Out Loud\n",
      "\n",
      "['ROFLOL', 'Rolling On The Floor Laughing Out Loud\\n']\n",
      "ROTFLMAO=Rolling On The Floor Laughing My A.. Off\n",
      "\n",
      "['ROTFLMAO', 'Rolling On The Floor Laughing My A.. Off\\n']\n",
      "SK8=Skate\n",
      "\n",
      "['SK8', 'Skate\\n']\n",
      "STATS=Your sex and age\n",
      "\n",
      "['STATS', 'Your sex and age\\n']\n",
      "ASL=Age, Sex, Location\n",
      "\n",
      "['ASL', 'Age, Sex, Location\\n']\n",
      "THX=Thank You\n",
      "\n",
      "['THX', 'Thank You\\n']\n",
      "TTFN=Ta-Ta For Now!\n",
      "\n",
      "['TTFN', 'Ta-Ta For Now!\\n']\n",
      "TTYL=Talk To You Later\n",
      "\n",
      "['TTYL', 'Talk To You Later\\n']\n",
      "U=You\n",
      "\n",
      "['U', 'You\\n']\n",
      "U2=You Too\n",
      "\n",
      "['U2', 'You Too\\n']\n",
      "U4E=Yours For Ever\n",
      "\n",
      "['U4E', 'Yours For Ever\\n']\n",
      "WB=Welcome Back\n",
      "\n",
      "['WB', 'Welcome Back\\n']\n",
      "WTF=What The F...\n",
      "\n",
      "['WTF', 'What The F...\\n']\n",
      "WTG=Way To Go!\n",
      "\n",
      "['WTG', 'Way To Go!\\n']\n",
      "WUF=Where Are You From?\n",
      "\n",
      "['WUF', 'Where Are You From?\\n']\n",
      "W8=Wait...\n",
      "\n",
      "['W8', 'Wait...\\n']\n",
      "7K=Sick:-D Laugher\n",
      "\n",
      "['7K', 'Sick:-D Laugher\\n']\n",
      "breaking bad= this movie\n",
      "['breaking bad', ' this movie']\n"
     ]
    }
   ],
   "source": [
    "a_dictionary = {}\n",
    "a_file = open(\"slang.txt\")\n",
    "for line in a_file:\n",
    "\n",
    "   print(line)\n",
    "   p=line.split(\"=\")\n",
    "   print(p)\n",
    "   a_dictionary[p[0]]=p[1]"
   ]
  },
  {
   "cell_type": "code",
   "execution_count": null,
   "metadata": {},
   "outputs": [
    {
     "name": "stderr",
     "output_type": "stream",
     "text": [
      "C:\\Users\\mednour\\AppData\\Local\\Temp/ipykernel_10408/2603112507.py:4: SettingWithCopyWarning: \n",
      "A value is trying to be set on a copy of a slice from a DataFrame\n",
      "\n",
      "See the caveats in the documentation: https://pandas.pydata.org/pandas-docs/stable/user_guide/indexing.html#returning-a-view-versus-a-copy\n",
      "  File['reviews'][i] = row['reviews'].replace(key,a_dictionary[key])\n"
     ]
    }
   ],
   "source": [
    "File['reviews']=File['reviews'].astype(str)\n",
    "for i,row in File.iterrows():\n",
    "    for key in a_dictionary.keys():\n",
    "        File['reviews'][i] = row['reviews'].replace(key,a_dictionary[key]) "
   ]
  },
  {
   "cell_type": "code",
   "execution_count": null,
   "metadata": {},
   "outputs": [
    {
     "name": "stdout",
     "output_type": "stream",
     "text": [
      " this movie one popular rated shows imdb one rarities every season either positively received nearuniversally acclaimed critically friends said nothing great things aboutvery shows recent memory hooked start week whole show watched especially lot shows airing watching one episode way endeavour  this movie effect reputation one best consistently brilliant addictive shows many years maybe even ever deserved eyes weakest season perhaps first season understandable shows first season one things still settlingactually everything established remarkably start writing characterisation becomes even meatier show reaches even higher levelsvisually  this movie one shows stylish beautiful photography editing cinematic quality put lot films today shame lot visually beautiful ones also painfully amateurish looking ones music always appropriate mood never intrusive never mutedthe writing  this movie fine example shows lot style also lot substance dialogue throughout thoughtprovoking tense also darkly wicked sense humour hearttugging pathos stories texturally rich intimate tense layered pace consistently deliberate taut direction couldnt bettercant say anything bad acting bryan cranston phenomenal one fascinating antiheroes even kind character either film television aaron paul never better anna gunn affecting characters compelling realismoverall describing brilliant doesnt  this movie justice bethany cox\n"
     ]
    }
   ],
   "source": [
    "print(File.iloc[0,0])"
   ]
  },
  {
   "cell_type": "code",
   "execution_count": null,
   "metadata": {},
   "outputs": [
    {
     "name": "stdout",
     "output_type": "stream",
     "text": [
      "till now, the best thing i have ever seen in my life. if i keep the best story, good moderate screenplay, just out of the world direction and so on, i have literaly never seen a movie or series that has perfect casting with the best top notch performances by every single characters !!!!!!!!!! and the story telling and story buildup of this series is an education lesson for upcoming directors and writers. i have just moved by this one. highly realistic story will give u a roller coster ride for sure. dont miss this one, just please dnt <\n"
     ]
    }
   ],
   "source": [
    "print(File.iloc[3200,0])"
   ]
  },
  {
   "cell_type": "code",
   "execution_count": null,
   "metadata": {},
   "outputs": [],
   "source": [
    "def remove_punctuation(text):\n",
    "    no_punct=\"\".join([c for c in text if c not in punctuation])\n",
    "    return no_punct\n",
    "def remove_stop(text):\n",
    "    no_stop=\" \".join([c for c in text.split() if c not in stopwords.words('english')])\n",
    "    return no_stop"
   ]
  },
  {
   "cell_type": "code",
   "execution_count": null,
   "metadata": {},
   "outputs": [],
   "source": [
    "File['reviews']=File['reviews'].astype(str)\n",
    "File['reviews']=File['reviews'].apply (lambda x : remove_punctuation (x))\n",
    "File['reviews']=File['reviews'].apply (remove_stop)"
   ]
  },
  {
   "cell_type": "code",
   "execution_count": null,
   "metadata": {},
   "outputs": [
    {
     "name": "stdout",
     "output_type": "stream",
     "text": [
      "outline clear people know even havent seen show teacher decides take step darkness consequences others suffer bryan cranston superb portrayal walter white chemistry teacher diagnosed cancer decides take matters handshaving met old pupil jesse pinkman played aaron paul undergo journey downs walter white family relationships feel realistic special bond hard explain mr white pinkman trying depict every little great aspect show would take long show though take time building tension gets released heavy action involved emotional impactthe first season may seem slow pace even fair share great moments ill mention bathtub almost crying laughter season picks almost stopping mcguffins like eye teddy bear name one enhance feeling show real feels real show obviously mature audiences content violence behavior characters nudity\n"
     ]
    }
   ],
   "source": [
    "print(File.iloc[2,0])"
   ]
  },
  {
   "cell_type": "code",
   "execution_count": null,
   "metadata": {},
   "outputs": [],
   "source": [
    "def remove_http(text):\n",
    "    no_http=\" \".join([c for c in text.split() if c.startswith('http')==False])\n",
    "    return no_http"
   ]
  },
  {
   "cell_type": "code",
   "execution_count": null,
   "metadata": {},
   "outputs": [],
   "source": [
    "File['reviews']=File['reviews'].apply (lambda x : remove_http (x))"
   ]
  },
  {
   "cell_type": "code",
   "execution_count": null,
   "metadata": {},
   "outputs": [
    {
     "name": "stdout",
     "output_type": "stream",
     "text": [
      "APL=A Programming Language\n",
      "\n",
      "['APL', 'A Programming Language\\n']\n",
      "OMGAGA=Oh My God\n",
      "\n",
      "['OMGAGA', 'Oh My God\\n']\n",
      "OMG=Oh My God\n",
      "\n",
      "['OMG', 'Oh My God\\n']\n",
      "AFAIK=As Far As I Know\n",
      "\n",
      "['AFAIK', 'As Far As I Know\\n']\n",
      "AFK=Away From Keyboard\n",
      "\n",
      "['AFK', 'Away From Keyboard\\n']\n",
      "ASAP=As Soon As Possible\n",
      "\n",
      "['ASAP', 'As Soon As Possible\\n']\n",
      "ATK=At The Keyboard\n",
      "\n",
      "['ATK', 'At The Keyboard\\n']\n",
      "ATM=At The Moment\n",
      "\n",
      "['ATM', 'At The Moment\\n']\n",
      "A3=Anytime, Anywhere, Anyplace\n",
      "\n",
      "['A3', 'Anytime, Anywhere, Anyplace\\n']\n",
      "BAK=Back At Keyboard\n",
      "\n",
      "['BAK', 'Back At Keyboard\\n']\n",
      "BBL=Be Back Later\n",
      "\n",
      "['BBL', 'Be Back Later\\n']\n",
      "BBS=Be Back Soon\n",
      "\n",
      "['BBS', 'Be Back Soon\\n']\n",
      "BFN=Bye For Now\n",
      "\n",
      "['BFN', 'Bye For Now\\n']\n",
      "B4N=Bye For Now\n",
      "\n",
      "['B4N', 'Bye For Now\\n']\n",
      "BRB=Be Right Back\n",
      "\n",
      "['BRB', 'Be Right Back\\n']\n",
      "BRT=Be Right There\n",
      "\n",
      "['BRT', 'Be Right There\\n']\n",
      "BTW=By The Way\n",
      "\n",
      "['BTW', 'By The Way\\n']\n",
      "B4=Before\n",
      "\n",
      "['B4', 'Before\\n']\n",
      "B4N=Bye For Now\n",
      "\n",
      "['B4N', 'Bye For Now\\n']\n",
      "CU=See You\n",
      "\n",
      "['CU', 'See You\\n']\n",
      "CUL8R=See You Later\n",
      "\n",
      "['CUL8R', 'See You Later\\n']\n",
      "CYA=See You\n",
      "\n",
      "['CYA', 'See You\\n']\n",
      "FAQ=Frequently Asked Questions\n",
      "\n",
      "['FAQ', 'Frequently Asked Questions\\n']\n",
      "FC=Fingers Crossed\n",
      "\n",
      "['FC', 'Fingers Crossed\\n']\n",
      "FWIW=For What It's Worth\n",
      "\n",
      "['FWIW', \"For What It's Worth\\n\"]\n",
      "FYI=For Your Information\n",
      "\n",
      "['FYI', 'For Your Information\\n']\n",
      "GAL=Get A Life\n",
      "\n",
      "['GAL', 'Get A Life\\n']\n",
      "GG=Good Game\n",
      "\n",
      "['GG', 'Good Game\\n']\n",
      "GN=Good Night\n",
      "\n",
      "['GN', 'Good Night\\n']\n",
      "GMTA=Great Minds Think Alike\n",
      "\n",
      "['GMTA', 'Great Minds Think Alike\\n']\n",
      "GR8=Great!\n",
      "\n",
      "['GR8', 'Great!\\n']\n",
      "G9=Genius\n",
      "\n",
      "['G9', 'Genius\\n']\n",
      "IC=I See\n",
      "\n",
      "['IC', 'I See\\n']\n",
      "ICQ=I Seek you (also a chat program)\n",
      "\n",
      "['ICQ', 'I Seek you (also a chat program)\\n']\n",
      "ILU=ILU: I Love You\n",
      "\n",
      "['ILU', 'ILU: I Love You\\n']\n",
      "IMHO=In My Honest/Humble Opinion\n",
      "\n",
      "['IMHO', 'In My Honest/Humble Opinion\\n']\n",
      "IMO=In My Opinion\n",
      "\n",
      "['IMO', 'In My Opinion\\n']\n",
      "IOW=In Other Words\n",
      "\n",
      "['IOW', 'In Other Words\\n']\n",
      "IRL=In Real Life\n",
      "\n",
      "['IRL', 'In Real Life\\n']\n",
      "KISS=Keep It Simple, Stupid\n",
      "\n",
      "['KISS', 'Keep It Simple, Stupid\\n']\n",
      "LDR=Long Distance Relationship\n",
      "\n",
      "['LDR', 'Long Distance Relationship\\n']\n",
      "LMAO=Laugh My A.. Off\n",
      "\n",
      "['LMAO', 'Laugh My A.. Off\\n']\n",
      "LOL=Laughing Out Loud\n",
      "\n",
      "['LOL', 'Laughing Out Loud\\n']\n",
      "LTNS=Long Time No See\n",
      "\n",
      "['LTNS', 'Long Time No See\\n']\n",
      "L8R=Later\n",
      "\n",
      "['L8R', 'Later\\n']\n",
      "MTE=My Thoughts Exactly\n",
      "\n",
      "['MTE', 'My Thoughts Exactly\\n']\n",
      "M8=Mate\n",
      "\n",
      "['M8', 'Mate\\n']\n",
      "NRN=No Reply Necessary\n",
      "\n",
      "['NRN', 'No Reply Necessary\\n']\n",
      "OIC=Oh I See\n",
      "\n",
      "['OIC', 'Oh I See\\n']\n",
      "PITA=Pain In The A..\n",
      "\n",
      "['PITA', 'Pain In The A..\\n']\n",
      "PRT=Party\n",
      "\n",
      "['PRT', 'Party\\n']\n",
      "PRW=Parents Are Watching\n",
      "\n",
      "['PRW', 'Parents Are Watching\\n']\n",
      "ROFL=Rolling On The Floor Laughing\n",
      "\n",
      "['ROFL', 'Rolling On The Floor Laughing\\n']\n",
      "ROFLOL=Rolling On The Floor Laughing Out Loud\n",
      "\n",
      "['ROFLOL', 'Rolling On The Floor Laughing Out Loud\\n']\n",
      "ROTFLMAO=Rolling On The Floor Laughing My A.. Off\n",
      "\n",
      "['ROTFLMAO', 'Rolling On The Floor Laughing My A.. Off\\n']\n",
      "SK8=Skate\n",
      "\n",
      "['SK8', 'Skate\\n']\n",
      "STATS=Your sex and age\n",
      "\n",
      "['STATS', 'Your sex and age\\n']\n",
      "ASL=Age, Sex, Location\n",
      "\n",
      "['ASL', 'Age, Sex, Location\\n']\n",
      "THX=Thank You\n",
      "\n",
      "['THX', 'Thank You\\n']\n",
      "TTFN=Ta-Ta For Now!\n",
      "\n",
      "['TTFN', 'Ta-Ta For Now!\\n']\n",
      "TTYL=Talk To You Later\n",
      "\n",
      "['TTYL', 'Talk To You Later\\n']\n",
      "U=You\n",
      "\n",
      "['U', 'You\\n']\n",
      "U2=You Too\n",
      "\n",
      "['U2', 'You Too\\n']\n",
      "U4E=Yours For Ever\n",
      "\n",
      "['U4E', 'Yours For Ever\\n']\n",
      "WB=Welcome Back\n",
      "\n",
      "['WB', 'Welcome Back\\n']\n",
      "WTF=What The F...\n",
      "\n",
      "['WTF', 'What The F...\\n']\n",
      "WTG=Way To Go!\n",
      "\n",
      "['WTG', 'Way To Go!\\n']\n",
      "WUF=Where Are You From?\n",
      "\n",
      "['WUF', 'Where Are You From?\\n']\n",
      "W8=Wait...\n",
      "\n",
      "['W8', 'Wait...\\n']\n",
      "7K=Sick:-D Laugher\n",
      "\n",
      "['7K', 'Sick:-D Laugher\\n']\n",
      "may=made\n",
      "\n",
      "['may', 'made\\n']\n",
      "take=took\n",
      "['take', 'took']\n"
     ]
    }
   ],
   "source": [
    "\n"
   ]
  },
  {
   "cell_type": "code",
   "execution_count": null,
   "metadata": {},
   "outputs": [
    {
     "name": "stderr",
     "output_type": "stream",
     "text": [
      "C:\\Users\\mednour\\AppData\\Local\\Temp/ipykernel_10408/2603112507.py:4: SettingWithCopyWarning: \n",
      "A value is trying to be set on a copy of a slice from a DataFrame\n",
      "\n",
      "See the caveats in the documentation: https://pandas.pydata.org/pandas-docs/stable/user_guide/indexing.html#returning-a-view-versus-a-copy\n",
      "  File['reviews'][i] = row['reviews'].replace(key,a_dictionary[key])\n"
     ]
    }
   ],
   "source": []
  },
  {
   "cell_type": "code",
   "execution_count": null,
   "metadata": {},
   "outputs": [
    {
     "name": "stdout",
     "output_type": "stream",
     "text": [
      "breaking bad one popular rated shows imdb one rarities every season either positively received nearuniversally acclaimed critically friends said nothing great things aboutvery shows recent memory hooked start week whole show watched especially lot shows airing watching one episode way endeavour breaking bad effect reputation one best consistently brilliant addictive shows many years maybe even ever deserved eyes weakest season perhaps first season understandable shows first season one things still settlingactually everything established remarkably start writing characterisation becomes even meatier show reaches even higher levelsvisually breaking bad one shows stylish beautiful photography editing cinematic quality put lot films today shame lot visually beautiful ones also painfully amateurish looking ones music always appropriate mood never intrusive never mutedthe writing breaking bad fine example shows lot style also lot substance dialogue throughout thoughtprovoking tense also darkly wicked sense humour hearttugging pathos stories texturally rich intimate tense layered pace consistently deliberate taut direction couldnt bettercant say anything bad acting bryan cranston phenomenal one fascinating antiheroes even kind character either film television aaron paul never better anna gunn affecting characters compelling realismoverall describing brilliant doesnt breaking bad justice bethany cox\n"
     ]
    }
   ],
   "source": [
    "#for i,row in File.iterrows():\n",
    "print(File['reviews'][0])"
   ]
  },
  {
   "cell_type": "code",
   "execution_count": null,
   "metadata": {},
   "outputs": [],
   "source": [
    "File['reviews']=File['reviews'].astype(str)\n",
    "File[\"lemmreviews\"]=File[\"reviews\"].apply(lambda row: \" \".join([w.lemma_ for w in nlp(row)]))\n",
    "    "
   ]
  },
  {
   "cell_type": "code",
   "execution_count": null,
   "metadata": {},
   "outputs": [
    {
     "data": {
      "text/html": [
       "<div>\n",
       "<style scoped>\n",
       "    .dataframe tbody tr th:only-of-type {\n",
       "        vertical-align: middle;\n",
       "    }\n",
       "\n",
       "    .dataframe tbody tr th {\n",
       "        vertical-align: top;\n",
       "    }\n",
       "\n",
       "    .dataframe thead th {\n",
       "        text-align: right;\n",
       "    }\n",
       "</style>\n",
       "<table border=\"1\" class=\"dataframe\">\n",
       "  <thead>\n",
       "    <tr style=\"text-align: right;\">\n",
       "      <th></th>\n",
       "      <th>reviews</th>\n",
       "      <th>notes</th>\n",
       "      <th>lemmreviews</th>\n",
       "    </tr>\n",
       "  </thead>\n",
       "  <tbody>\n",
       "    <tr>\n",
       "      <th>0</th>\n",
       "      <td>breaking bad one popular rated shows imdb one ...</td>\n",
       "      <td>10.0</td>\n",
       "      <td>break bad one popular rate show imdb one rarit...</td>\n",
       "    </tr>\n",
       "    <tr>\n",
       "      <th>1</th>\n",
       "      <td>bryan cranston shows acting skills portraying ...</td>\n",
       "      <td>9.0</td>\n",
       "      <td>bryan cranston show acting skill portray compl...</td>\n",
       "    </tr>\n",
       "    <tr>\n",
       "      <th>2</th>\n",
       "      <td>outline clear people know even havent seen sho...</td>\n",
       "      <td>10.0</td>\n",
       "      <td>outline clear people know even have not see sh...</td>\n",
       "    </tr>\n",
       "    <tr>\n",
       "      <th>3</th>\n",
       "      <td>years writing x files vince gilligan created s...</td>\n",
       "      <td>10.0</td>\n",
       "      <td>year write x file vince gilligan create show s...</td>\n",
       "    </tr>\n",
       "    <tr>\n",
       "      <th>4</th>\n",
       "      <td>provide family pregnant wife anna gunn teenage...</td>\n",
       "      <td>8.0</td>\n",
       "      <td>provide family pregnant wife anna gunn teenage...</td>\n",
       "    </tr>\n",
       "    <tr>\n",
       "      <th>5</th>\n",
       "      <td>wonder great mistook behalf got around watch b...</td>\n",
       "      <td>9.0</td>\n",
       "      <td>wonder great mistook behalf get around watch b...</td>\n",
       "    </tr>\n",
       "    <tr>\n",
       "      <th>6</th>\n",
       "      <td>hard super objective show course episodes righ...</td>\n",
       "      <td>10.0</td>\n",
       "      <td>hard super objective show course episode right...</td>\n",
       "    </tr>\n",
       "    <tr>\n",
       "      <th>7</th>\n",
       "      <td>never seen show loved much start end never wen...</td>\n",
       "      <td>10.0</td>\n",
       "      <td>never see show love much start end never went ...</td>\n",
       "    </tr>\n",
       "    <tr>\n",
       "      <th>8</th>\n",
       "      <td>like bit make crystal meth back rv</td>\n",
       "      <td>10.0</td>\n",
       "      <td>like bit make crystal meth back rv</td>\n",
       "    </tr>\n",
       "    <tr>\n",
       "      <th>9</th>\n",
       "      <td>brilliant one greatest drama series timeset al...</td>\n",
       "      <td>10.0</td>\n",
       "      <td>brilliant one great drama series timeset albuq...</td>\n",
       "    </tr>\n",
       "  </tbody>\n",
       "</table>\n",
       "</div>"
      ],
      "text/plain": [
       "                                             reviews  notes  \\\n",
       "0  breaking bad one popular rated shows imdb one ...   10.0   \n",
       "1  bryan cranston shows acting skills portraying ...    9.0   \n",
       "2  outline clear people know even havent seen sho...   10.0   \n",
       "3  years writing x files vince gilligan created s...   10.0   \n",
       "4  provide family pregnant wife anna gunn teenage...    8.0   \n",
       "5  wonder great mistook behalf got around watch b...    9.0   \n",
       "6  hard super objective show course episodes righ...   10.0   \n",
       "7  never seen show loved much start end never wen...   10.0   \n",
       "8                 like bit make crystal meth back rv   10.0   \n",
       "9  brilliant one greatest drama series timeset al...   10.0   \n",
       "\n",
       "                                         lemmreviews  \n",
       "0  break bad one popular rate show imdb one rarit...  \n",
       "1  bryan cranston show acting skill portray compl...  \n",
       "2  outline clear people know even have not see sh...  \n",
       "3  year write x file vince gilligan create show s...  \n",
       "4  provide family pregnant wife anna gunn teenage...  \n",
       "5  wonder great mistook behalf get around watch b...  \n",
       "6  hard super objective show course episode right...  \n",
       "7  never see show love much start end never went ...  \n",
       "8                 like bit make crystal meth back rv  \n",
       "9  brilliant one great drama series timeset albuq...  "
      ]
     },
     "execution_count": 47,
     "metadata": {},
     "output_type": "execute_result"
    }
   ],
   "source": [
    "File.head(10)"
   ]
  },
  {
   "cell_type": "code",
   "execution_count": null,
   "metadata": {},
   "outputs": [
    {
     "data": {
      "text/plain": [
       "0    break bad one popular rate show imdb one rarit...\n",
       "1    bryan cranston show acting skill portray compl...\n",
       "2    outline clear people know even have not see sh...\n",
       "3    year write x file vince gilligan create show s...\n",
       "4    provide family pregnant wife anna gunn teenage...\n",
       "5    wonder great mistook behalf get around watch b...\n",
       "Name: lemmreviews, dtype: object"
      ]
     },
     "execution_count": 48,
     "metadata": {},
     "output_type": "execute_result"
    }
   ],
   "source": [
    "File[\"lemmreviews\"].head(6)"
   ]
  },
  {
   "cell_type": "code",
   "execution_count": null,
   "metadata": {},
   "outputs": [
    {
     "name": "stdout",
     "output_type": "stream",
     "text": [
      "<class 'str'>\n"
     ]
    }
   ],
   "source": [
    "print(type(File.iloc[5,0]))\n"
   ]
  },
  {
   "cell_type": "code",
   "execution_count": null,
   "metadata": {},
   "outputs": [],
   "source": [
    "File['lemmreviews']=File['lemmreviews'].astype(str)"
   ]
  },
  {
   "cell_type": "code",
   "execution_count": null,
   "metadata": {},
   "outputs": [],
   "source": [
    "def detect_polarity(text):\n",
    "    return TextBlob(text).sentiment.polarity"
   ]
  },
  {
   "cell_type": "code",
   "execution_count": null,
   "metadata": {},
   "outputs": [],
   "source": [
    "File['polarity']= File.lemmreviews.apply(detect_polarity)\n"
   ]
  },
  {
   "cell_type": "code",
   "execution_count": null,
   "metadata": {},
   "outputs": [
    {
     "data": {
      "image/png": "[encoded data removed]",
      "text/plain": [
       "<Figure size 432x288 with 1 Axes>"
      ]
     },
     "metadata": {
      "needs_background": "light"
     },
     "output_type": "display_data"
    }
   ],
   "source": [
    "File['polarity'].hist()\n",
    "plt.bar(File.polarity.value_counts().index, File.polarity.value_counts())\n",
    "ddd=File.copy()"
   ]
  },
  {
   "cell_type": "code",
   "execution_count": null,
   "metadata": {},
   "outputs": [
    {
     "data": {
      "text/plain": [
       "<AxesSubplot:xlabel='notes', ylabel='polarity'>"
      ]
     },
     "execution_count": 54,
     "metadata": {},
     "output_type": "execute_result"
    },
    {
     "data": {
      "image/png": "[encoded data removed]",
      "text/plain": [
       "<Figure size 432x288 with 1 Axes>"
      ]
     },
     "metadata": {
      "needs_background": "light"
     },
     "output_type": "display_data"
    }
   ],
   "source": [
    "File['polarity']= File.lemmreviews.apply(detect_polarity)\n",
    "\n",
    "###########visualisation\n",
    "\n",
    "\n",
    "import seaborn as sns\n",
    "#plt.figure(figsize=(10,6))\n",
    "sns.boxenplot(x='notes', y='polarity', data=File)"
   ]
  },
  {
   "cell_type": "code",
   "execution_count": null,
   "metadata": {},
   "outputs": [],
   "source": [
    "\n",
    "File.loc[ (File.polarity<0), 'polarity'] = -1\n",
    "File.loc[ (File.polarity>=0), 'polarity'] = 1    "
   ]
  },
  {
   "cell_type": "code",
   "execution_count": null,
   "metadata": {},
   "outputs": [
    {
     "data": {
      "text/plain": [
       "0        1.0\n",
       "1        1.0\n",
       "2        1.0\n",
       "3       -1.0\n",
       "4        1.0\n",
       "        ... \n",
       "11082   -1.0\n",
       "11083    1.0\n",
       "11084    1.0\n",
       "11085    1.0\n",
       "11086   -1.0\n",
       "Name: polarity, Length: 11076, dtype: float64"
      ]
     },
     "execution_count": 56,
     "metadata": {},
     "output_type": "execute_result"
    }
   ],
   "source": [
    "File.polarity"
   ]
  },
  {
   "cell_type": "code",
   "execution_count": null,
   "metadata": {},
   "outputs": [
    {
     "data": {
      "text/html": [
       "<div>\n",
       "<style scoped>\n",
       "    .dataframe tbody tr th:only-of-type {\n",
       "        vertical-align: middle;\n",
       "    }\n",
       "\n",
       "    .dataframe tbody tr th {\n",
       "        vertical-align: top;\n",
       "    }\n",
       "\n",
       "    .dataframe thead th {\n",
       "        text-align: right;\n",
       "    }\n",
       "</style>\n",
       "<table border=\"1\" class=\"dataframe\">\n",
       "  <thead>\n",
       "    <tr style=\"text-align: right;\">\n",
       "      <th></th>\n",
       "      <th>reviews</th>\n",
       "      <th>notes</th>\n",
       "      <th>lemmreviews</th>\n",
       "      <th>polarity</th>\n",
       "    </tr>\n",
       "  </thead>\n",
       "  <tbody>\n",
       "    <tr>\n",
       "      <th>0</th>\n",
       "      <td>breaking bad one popular rated shows imdb one ...</td>\n",
       "      <td>10.0</td>\n",
       "      <td>break bad one popular rate show imdb one rarit...</td>\n",
       "      <td>1.0</td>\n",
       "    </tr>\n",
       "    <tr>\n",
       "      <th>1</th>\n",
       "      <td>bryan cranston shows acting skills portraying ...</td>\n",
       "      <td>9.0</td>\n",
       "      <td>bryan cranston show acting skill portray compl...</td>\n",
       "      <td>1.0</td>\n",
       "    </tr>\n",
       "    <tr>\n",
       "      <th>2</th>\n",
       "      <td>outline clear people know even havent seen sho...</td>\n",
       "      <td>10.0</td>\n",
       "      <td>outline clear people know even have not see sh...</td>\n",
       "      <td>1.0</td>\n",
       "    </tr>\n",
       "    <tr>\n",
       "      <th>3</th>\n",
       "      <td>years writing x files vince gilligan created s...</td>\n",
       "      <td>10.0</td>\n",
       "      <td>year write x file vince gilligan create show s...</td>\n",
       "      <td>-1.0</td>\n",
       "    </tr>\n",
       "    <tr>\n",
       "      <th>4</th>\n",
       "      <td>provide family pregnant wife anna gunn teenage...</td>\n",
       "      <td>8.0</td>\n",
       "      <td>provide family pregnant wife anna gunn teenage...</td>\n",
       "      <td>1.0</td>\n",
       "    </tr>\n",
       "  </tbody>\n",
       "</table>\n",
       "</div>"
      ],
      "text/plain": [
       "                                             reviews  notes  \\\n",
       "0  breaking bad one popular rated shows imdb one ...   10.0   \n",
       "1  bryan cranston shows acting skills portraying ...    9.0   \n",
       "2  outline clear people know even havent seen sho...   10.0   \n",
       "3  years writing x files vince gilligan created s...   10.0   \n",
       "4  provide family pregnant wife anna gunn teenage...    8.0   \n",
       "\n",
       "                                         lemmreviews  polarity  \n",
       "0  break bad one popular rate show imdb one rarit...       1.0  \n",
       "1  bryan cranston show acting skill portray compl...       1.0  \n",
       "2  outline clear people know even have not see sh...       1.0  \n",
       "3  year write x file vince gilligan create show s...      -1.0  \n",
       "4  provide family pregnant wife anna gunn teenage...       1.0  "
      ]
     },
     "execution_count": 57,
     "metadata": {},
     "output_type": "execute_result"
    }
   ],
   "source": [
    "File.head()"
   ]
  },
  {
   "cell_type": "markdown",
   "metadata": {},
   "source": [
    "Build  Machine Learning Model"
   ]
  },
  {
   "cell_type": "code",
   "execution_count": null,
   "metadata": {},
   "outputs": [
    {
     "name": "stdout",
     "output_type": "stream",
     "text": [
      "[-1.]\n"
     ]
    }
   ],
   "source": [
    "import pickle\n",
    "from sklearn.svm import LinearSVC\n",
    "from sklearn.feature_extraction.text import TfidfVectorizer\n",
    "from sklearn.model_selection import train_test_split\n",
    "vect = TfidfVectorizer(ngram_range=(1,1),use_idf=True,stop_words=stopwords.words('english'))\n",
    "\n",
    "X = vect.fit_transform(File['lemmreviews'])\n",
    "Y=File['polarity']\n",
    "X_train, X_test, y_train, y_test = train_test_split(X,Y, random_state = 0,test_size=0.1)\n",
    "model = LinearSVC().fit(X_train, y_train)\n",
    "model.score(X_test,y_test)\n",
    "pickle.dump(model, open('model1.pkl','wb'))\n",
    "\n",
    "model1 = pickle.load(open('model1.pkl','rb'))\n",
    "\n",
    "text=[\"breaking bad is boring and violence \"]\n",
    "\n",
    "vectorize=vect.transform(text)\n",
    "\n",
    "print(model1.predict(vectorize))\n"
   ]
  },
  {
   "cell_type": "code",
   "execution_count": null,
   "metadata": {},
   "outputs": [
    {
     "name": "stdout",
     "output_type": "stream",
     "text": [
      "Confusion Matrix :\n",
      "[[114  71]\n",
      " [ 27 896]]\n",
      "Accuracy Score : 0.9115523465703971\n",
      "Report : \n",
      "              precision    recall  f1-score   support\n",
      "\n",
      "        -1.0       0.81      0.62      0.70       185\n",
      "         1.0       0.93      0.97      0.95       923\n",
      "\n",
      "    accuracy                           0.91      1108\n",
      "   macro avg       0.87      0.79      0.82      1108\n",
      "weighted avg       0.91      0.91      0.91      1108\n",
      "\n"
     ]
    }
   ],
   "source": [
    "from sklearn.metrics import classification_report, confusion_matrix\n",
    "from sklearn.metrics import accuracy_score\n",
    "y_pred=model1.predict(X_test)\n",
    "results = confusion_matrix(y_test, y_pred)\n",
    "print ('Confusion Matrix :')\n",
    "print(results)\n",
    "print ('Accuracy Score :',accuracy_score(y_test, y_pred) )\n",
    "print ('Report : ')\n",
    "print (classification_report(y_test, y_pred))\n"
   ]
  },
  {
   "cell_type": "markdown",
   "metadata": {},
   "source": [
    "Save Model"
   ]
  },
  {
   "cell_type": "code",
   "execution_count": null,
   "metadata": {},
   "outputs": [],
   "source": [
    "import joblib"
   ]
  },
  {
   "cell_type": "code",
   "execution_count": null,
   "metadata": {},
   "outputs": [
    {
     "data": {
      "text/plain": [
       "['vectorizer.pkl']"
      ]
     },
     "execution_count": 487,
     "metadata": {},
     "output_type": "execute_result"
    }
   ],
   "source": [
    "joblib.dump(model,'ml_reviews_model.joblib')\n",
    "joblib.dump(vect, 'vectorizer.pkl')"
   ]
  },
  {
   "cell_type": "code",
   "execution_count": null,
   "metadata": {},
   "outputs": [],
   "source": [
    "#netflix_df.to_csv (r'C:netflix_df.csv',index = False)"
   ]
  }
 ],
 "metadata": {
  "interpreter": {
   "hash": "e922dd073470bdcc017ae3abd31d6491d6ed7bf31c1d559806e5511bfea88b81"
  },
  "kernelspec": {
   "display_name": "Python 3.7.0 64-bit",
   "language": "python",
   "name": "python3"
  },
  "language_info": {
   "codemirror_mode": {
    "name": "ipython",
    "version": 3
   },
   "file_extension": ".py",
   "mimetype": "text/x-python",
   "name": "python",
   "nbconvert_exporter": "python",
   "pygments_lexer": "ipython3",
   "version": "3.8.12"
  },
  "orig_nbformat": 4
 },
 "nbformat": 4,
 "nbformat_minor": 2
}
